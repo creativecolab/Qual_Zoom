{
 "cells": [
  {
   "cell_type": "markdown",
   "id": "a95cc188",
   "metadata": {},
   "source": [
    "# Process Zoom Transcripts for Qualitative Interviews"
   ]
  },
  {
   "cell_type": "markdown",
   "id": "cc708acc",
   "metadata": {},
   "source": [
    "Process single vtt files (produced from zoom recordings) to paragraphs.\n",
    "Stepes include:\n",
    "- combine different lines said by the same person to one paragraph\n",
    "- anonymize zoom names\n",
    "\n",
    "Files in the same folder:\n",
    "- A csv with the first column as zoom names and the second column as code names\n",
    "- vtt files produced from zoom recordings"
   ]
  },
  {
   "cell_type": "code",
   "execution_count": 1,
   "id": "a6503afe",
   "metadata": {},
   "outputs": [],
   "source": [
    "import webvtt \n",
    "#run '!pip install webvtt-py' if haven't installed\n",
    "import datetime"
   ]
  },
  {
   "cell_type": "code",
   "execution_count": 2,
   "id": "05f77abf",
   "metadata": {},
   "outputs": [],
   "source": [
    "# read individual vtt files\n",
    "file_name = 'XXXX.vtt'\n",
    "\n",
    "#read transcript\n",
    "transcript = open(file_name, \"r\").read()\n",
    "\n",
    "#breakdown to each line\n",
    "transcript = transcript.split(\"\\n\\n\")"
   ]
  },
  {
   "cell_type": "code",
   "execution_count": 3,
   "id": "f2b67eff",
   "metadata": {},
   "outputs": [],
   "source": [
    "lines = []\n",
    "\n",
    "for line in transcript[1:]: #remove first 'WEBVTT'\n",
    "    each_line = line.split('\\n')\n",
    "    \n",
    "    try:\n",
    "        words = each_line[2].split(': ')\n",
    "        time = each_line[1].split(' --> ')\n",
    "        lines.append([words[0],words[1],time])\n",
    "    except:\n",
    "        pass # doing nothing on exception"
   ]
  },
  {
   "cell_type": "code",
   "execution_count": 5,
   "id": "0b54e254",
   "metadata": {},
   "outputs": [],
   "source": [
    "#combine lines if from the same \n",
    "transcript_comb = []\n",
    "# init_time = datetime.datetime.strptime('00:00:00.0','%H:%M:%S.%f')\n",
    "end_time = datetime.datetime.strptime('00:00:00.0','%H:%M:%S.%f')\n",
    "\n",
    "for i in range(len(lines)):\n",
    "        if i>0:\n",
    "            temp_content = lines[i-1][1]\n",
    "            init_time = datetime.datetime.strptime(lines[i-1][2][0],'%H:%M:%S.%f')\n",
    "            if lines[i][0] == lines[i-1][0]:\n",
    "                temp_content = temp_content + ' ' + lines[i][1]          \n",
    "            else:\n",
    "                end_time = datetime.datetime.strptime(lines[i-1][2][1],'%H:%M:%S.%f')\n",
    "                elapsed_time = (end_time - init_time).total_seconds()\n",
    "                transcript_comb.append([lines[i][0], lines[i-1][2][0], lines[i-1][2][1], elapsed_time, temp_content])"
   ]
  },
  {
   "cell_type": "code",
   "execution_count": 7,
   "id": "d0d58188",
   "metadata": {},
   "outputs": [],
   "source": [
    "# Code to anonymize participants\n",
    "# read anonymize.csv as a dictionary\n",
    "# first column is the zoom names\n",
    "# second column is the code names\n",
    "\n",
    "import csv\n",
    "\n",
    "with open('anonymize.csv', mode='r') as infile:\n",
    "    reader = csv.reader(infile)\n",
    "    lookup_dict = {rows[0]:rows[1] for rows in reader}"
   ]
  },
  {
   "cell_type": "code",
   "execution_count": 8,
   "id": "7bb4bdd2",
   "metadata": {},
   "outputs": [],
   "source": [
    "# substitute Zoom names with Code names\n",
    "\n",
    "for i in range(len(transcript_comb)):\n",
    "    if transcript_comb[i][0] in lookup_dict.keys():\n",
    "        key = transcript_comb[i][0]\n",
    "        transcript_comb[i][0] = lookup_dict[key]"
   ]
  },
  {
   "cell_type": "code",
   "execution_count": 11,
   "id": "6d662806",
   "metadata": {},
   "outputs": [],
   "source": [
    "fields = ['Person','Initial Timestamp', 'End Timestamp','Duration','Transcript']\n",
    "\n",
    "\n",
    "with open('XXXX_new', 'w') as f:\n",
    "    # using csv.writer method from CSV package\n",
    "    write = csv.writer(f)\n",
    "      \n",
    "    write.writerow(fields)\n",
    "    write.writerows(transcript_comb)"
   ]
  }
 ],
 "metadata": {
  "kernelspec": {
   "display_name": "Python 3 (ipykernel)",
   "language": "python",
   "name": "python3"
  },
  "language_info": {
   "codemirror_mode": {
    "name": "ipython",
    "version": 3
   },
   "file_extension": ".py",
   "mimetype": "text/x-python",
   "name": "python",
   "nbconvert_exporter": "python",
   "pygments_lexer": "ipython3",
   "version": "3.9.7"
  }
 },
 "nbformat": 4,
 "nbformat_minor": 5
}
